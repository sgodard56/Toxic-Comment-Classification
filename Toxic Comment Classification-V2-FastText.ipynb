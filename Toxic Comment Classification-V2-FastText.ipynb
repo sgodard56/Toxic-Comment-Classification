{
 "cells": [
  {
   "cell_type": "markdown",
   "metadata": {},
   "source": [
    "# Toxic Comment Classification Challenge"
   ]
  },
  {
   "cell_type": "markdown",
   "metadata": {},
   "source": [
    "(see https://www.kaggle.com/c/jigsaw-toxic-comment-classification-challenge/).   \n"
   ]
  },
  {
   "cell_type": "markdown",
   "metadata": {},
   "source": [
    "##### control the use of the gpu"
   ]
  },
  {
   "cell_type": "code",
   "execution_count": 1,
   "metadata": {},
   "outputs": [],
   "source": [
    "import time\n",
    "\n",
    "import os\n",
    "os.environ[\"CUDA_DEVICE_ORDER\"] = \"PCI_BUS_ID\"\n",
    "os.environ[\"CUDA_VISIBLE_DEVICES\"] = \"3\""
   ]
  },
  {
   "cell_type": "markdown",
   "metadata": {},
   "source": [
    "##### import libraries"
   ]
  },
  {
   "cell_type": "code",
   "execution_count": 2,
   "metadata": {},
   "outputs": [
    {
     "name": "stderr",
     "output_type": "stream",
     "text": [
      "/usr/local/lib/python3.5/dist-packages/h5py/__init__.py:36: FutureWarning: Conversion of the second argument of issubdtype from `float` to `np.floating` is deprecated. In future, it will be treated as `np.float64 == np.dtype(float).type`.\n",
      "  from ._conv import register_converters as _register_converters\n",
      "Using TensorFlow backend.\n"
     ]
    }
   ],
   "source": [
    "import numpy as np\n",
    "import pandas as pd\n",
    "\n",
    "%matplotlib inline\n",
    "import matplotlib.pyplot as plt\n",
    "\n",
    "import random\n",
    "import h5py\n",
    "\n",
    "from sklearn.model_selection import train_test_split\n",
    "from sklearn.metrics import roc_auc_score\n",
    "\n",
    "import keras\n",
    "from keras.preprocessing.text import Tokenizer\n",
    "from keras.preprocessing.sequence import pad_sequences\n",
    "from keras.layers.embeddings import Embedding\n",
    "from keras.callbacks import Callback\n",
    "from keras.callbacks import EarlyStopping, ModelCheckpoint\n",
    "from keras.models import load_model"
   ]
  },
  {
   "cell_type": "markdown",
   "metadata": {},
   "source": [
    "## Read data"
   ]
  },
  {
   "cell_type": "markdown",
   "metadata": {},
   "source": [
    "##### read data as dataframes with pandas"
   ]
  },
  {
   "cell_type": "code",
   "execution_count": 3,
   "metadata": {},
   "outputs": [],
   "source": [
    "df_train = pd.read_table('data/train.csv',sep=',',header=0)\n",
    "df_test = pd.read_table('data/test.csv',sep=',',header=0)\n",
    "sample_submission = pd.read_table('data/sample_submission.csv',sep=',',header=0)"
   ]
  },
  {
   "cell_type": "code",
   "execution_count": 4,
   "metadata": {},
   "outputs": [
    {
     "name": "stdout",
     "output_type": "stream",
     "text": [
      "The training dataset contains 159571 examples.\n",
      "The dataframe is composed of 8 columns:\n",
      "id\n",
      "comment_text\n",
      "toxic\n",
      "severe_toxic\n",
      "obscene\n",
      "threat\n",
      "insult\n",
      "identity_hate\n"
     ]
    }
   ],
   "source": [
    "print(\"The training dataset contains\",df_train.shape[0],\"examples.\")\n",
    "print(\"The dataframe is composed of\",df_train.shape[1],\"columns:\")\n",
    "for i in range(len(df_train.columns)): print(df_train.columns[i])"
   ]
  },
  {
   "cell_type": "code",
   "execution_count": 5,
   "metadata": {},
   "outputs": [],
   "source": [
    "id_train = df_train['id']\n",
    "x_train = df_train['comment_text']\n",
    "y_train = df_train.iloc[:, 2:].values\n",
    "\n",
    "id_test = df_test['id']\n",
    "x_test = df_test['comment_text']"
   ]
  },
  {
   "cell_type": "markdown",
   "metadata": {},
   "source": [
    "##### display some examples of comments"
   ]
  },
  {
   "cell_type": "code",
   "execution_count": 6,
   "metadata": {},
   "outputs": [
    {
     "name": "stdout",
     "output_type": "stream",
     "text": [
      "[100841, 68803, 80736]\n",
      "Comment:  \"\n",
      "Thanks for letting me know.  Just an FYI, if you use edit summaries and give sources for your edits, its much less likely to be mistaken for a problematic edit.    babelfish \"\n",
      "Labels:    [0 0 0 0 0 0]\n",
      "\n",
      "\n",
      "Comment:  \"\n",
      "\n",
      " SaiDain \n",
      "\n",
      "I don't care if SaiDain is technically not a Geki Beast. He does not need to be mentioned separately on Gokaigers and he especially does not need his own bold name on the page. If people want to know more about it, they can go to the Gekiranger pages.— (竜龙) \"\n",
      "Labels:    [0 0 0 0 0 0]\n",
      "\n",
      "\n",
      "Comment:  Commission of Investigation \n",
      "\n",
      "I think the report may be published here - there will probably be a lot in it relevant to several articles.\n",
      "Labels:    [0 0 0 0 0 0]\n",
      "\n",
      "\n"
     ]
    }
   ],
   "source": [
    "# select randomly some examples\n",
    "examples = random.sample(range(x_train.shape[0]),3)\n",
    "\n",
    "print(examples)\n",
    "for ex in examples:\n",
    "    print('Comment:  {}'.format(x_train[ex]))\n",
    "    print('Labels:    {}'.format(y_train[ex]))\n",
    "    print('\\n')"
   ]
  },
  {
   "cell_type": "markdown",
   "metadata": {},
   "source": [
    "## Preprocess data"
   ]
  },
  {
   "cell_type": "markdown",
   "metadata": {},
   "source": [
    "### Tokenizer"
   ]
  },
  {
   "cell_type": "markdown",
   "metadata": {},
   "source": [
    "Create a tokenizer, which whill be use to vectorize the text of the comments (see: https://keras.io/preprocessing/text/ ).   \n",
    "Then, fit the tokenizer on the training dataset and run it on the training and testing comments."
   ]
  },
  {
   "cell_type": "code",
   "execution_count": 7,
   "metadata": {},
   "outputs": [],
   "source": [
    "# create tokenizer\n",
    "max_num_words = None\n",
    "\n",
    "tokenizer = Tokenizer(num_words = max_num_words, filters='!\"#$%&()*+,-./:;<=>?@[\\]^_`{|}~\\t\\n',\n",
    "                      lower=True, split=' ', char_level=False, oov_token=None)"
   ]
  },
  {
   "cell_type": "code",
   "execution_count": 8,
   "metadata": {},
   "outputs": [],
   "source": [
    "# fit tokenizer\n",
    "tokenizer.fit_on_texts(list(x_train))"
   ]
  },
  {
   "cell_type": "code",
   "execution_count": 9,
   "metadata": {},
   "outputs": [
    {
     "name": "stdout",
     "output_type": "stream",
     "text": [
      "The tokenizer founds 210337 unique tokens.\n"
     ]
    }
   ],
   "source": [
    "word_index = tokenizer.word_index # dictionnary of words whith their indexes (uniquely assigned integers)\n",
    "\n",
    "voc_size = len(word_index)\n",
    "print('The tokenizer founds {} unique tokens.' .format(voc_size))"
   ]
  },
  {
   "cell_type": "code",
   "execution_count": 10,
   "metadata": {},
   "outputs": [],
   "source": [
    "# run tokenizer\n",
    "seq_train = tokenizer.texts_to_sequences(x_train)\n",
    "seq_test = tokenizer.texts_to_sequences(x_test)"
   ]
  },
  {
   "cell_type": "code",
   "execution_count": 11,
   "metadata": {},
   "outputs": [
    {
     "name": "stdout",
     "output_type": "stream",
     "text": [
      "The average length of the training sequences is 68.22156908210138 with a standard deviation of 101.07344657013672.\n",
      "The longest sequence has a size of 1403, and the shortest only 1.\n"
     ]
    }
   ],
   "source": [
    "avg_len = np.mean([len(seq) for seq in seq_train])\n",
    "std_len = np.std([len(seq) for seq in seq_train])\n",
    "longest_len = max(len(seq) for seq in seq_train)\n",
    "shortest_len = min(len(seq) for seq in seq_train)\n",
    "\n",
    "print(\"The average length of the training sequences is {} with a standard deviation of {}.\".format(avg_len,std_len))\n",
    "print(\"The longest sequence has a size of {}, and the shortest only {}.\".format(longest_len,shortest_len))"
   ]
  },
  {
   "cell_type": "code",
   "execution_count": 12,
   "metadata": {},
   "outputs": [
    {
     "name": "stdout",
     "output_type": "stream",
     "text": [
      "The maximum length for the sequences is fixed at 371.\n"
     ]
    }
   ],
   "source": [
    "# Fix a maximum length for the sequences\n",
    "max_len = int(avg_len + std_len * 3)\n",
    "print(\"The maximum length for the sequences is fixed at {}.\" .format(max_len))"
   ]
  },
  {
   "cell_type": "markdown",
   "metadata": {},
   "source": [
    "### pad_sequences"
   ]
  },
  {
   "cell_type": "markdown",
   "metadata": {},
   "source": [
    "Pads the sequences to the same length : \"max_size\". Sequences shorter than \"max_size\" are padded with \"0\" and the end, and sequences longer are truncated.   \n",
    "(see https://keras.io/preprocessing/sequence/ )."
   ]
  },
  {
   "cell_type": "code",
   "execution_count": 13,
   "metadata": {},
   "outputs": [
    {
     "name": "stdout",
     "output_type": "stream",
     "text": [
      "Shape of training data tensor: (159571, 371)\n",
      "Shape of test data tensor: (153164, 371)\n"
     ]
    }
   ],
   "source": [
    "data_train = pad_sequences(seq_train, maxlen=max_len, padding='post', truncating='post', value=0)\n",
    "data_test = pad_sequences(seq_test, maxlen=max_len, padding='post', truncating='post', value=0)\n",
    "\n",
    "print('Shape of training data tensor:', data_train.shape)\n",
    "print('Shape of test data tensor:', data_test.shape)"
   ]
  },
  {
   "cell_type": "markdown",
   "metadata": {},
   "source": [
    "### Embedding"
   ]
  },
  {
   "cell_type": "markdown",
   "metadata": {},
   "source": [
    "### using FastText"
   ]
  },
  {
   "cell_type": "markdown",
   "metadata": {},
   "source": [
    "##### get embeddings"
   ]
  },
  {
   "cell_type": "code",
   "execution_count": 14,
   "metadata": {},
   "outputs": [
    {
     "name": "stdout",
     "output_type": "stream",
     "text": [
      "Found 2519371 words vectors, with dim=300.\n"
     ]
    }
   ],
   "source": [
    "embedding_dim = 300\n",
    "\n",
    "embeddings_index = {}\n",
    "f = open('wiki.en.vec')\n",
    "for line in f:\n",
    "    values = line.rstrip().rsplit(' ', embedding_dim)\n",
    "    word = values[0]\n",
    "    coefs = np.asarray(values[1:], dtype='float32')\n",
    "    embeddings_index[word] = coefs\n",
    "f.close()\n",
    "\n",
    "embedding_dim = next(iter(embeddings_index.values())).shape[0]\n",
    "\n",
    "print(\"Found {} words vectors, with dim={}.\".format(len(embeddings_index),embedding_dim))"
   ]
  },
  {
   "cell_type": "markdown",
   "metadata": {},
   "source": [
    "###### construct the embedding matrix\n",
    "It maps words to vectors in the specified embedding dimension (\"embedding_dim\")."
   ]
  },
  {
   "cell_type": "code",
   "execution_count": 15,
   "metadata": {},
   "outputs": [
    {
     "name": "stdout",
     "output_type": "stream",
     "text": [
      "Dimensions of the embedding matrix = (210338, 300)\n"
     ]
    }
   ],
   "source": [
    "embedding_matrix = np.zeros((len(word_index) + 1, embedding_dim))\n",
    "\n",
    "for word, i in word_index.items():\n",
    "    embedding_vector = embeddings_index.get(word)\n",
    "    if embedding_vector is not None:\n",
    "        embedding_matrix[i] = embedding_vector \n",
    "    # words not found in embedding index will be all-zeros.\n",
    "\n",
    "print(\"Dimensions of the embedding matrix = {}\".format(embedding_matrix.shape))"
   ]
  },
  {
   "cell_type": "markdown",
   "metadata": {},
   "source": [
    "##### save embeddings"
   ]
  },
  {
   "cell_type": "code",
   "execution_count": 16,
   "metadata": {},
   "outputs": [],
   "source": [
    "with h5py.File('embeddings_fasttext', 'w') as hf:\n",
    "    hf.create_dataset(\"fasttext\",  data=embedding_matrix)"
   ]
  },
  {
   "cell_type": "markdown",
   "metadata": {},
   "source": [
    "## Model"
   ]
  },
  {
   "cell_type": "code",
   "execution_count": 17,
   "metadata": {},
   "outputs": [],
   "source": [
    "import keras\n",
    "import keras.backend as K\n",
    "from keras.models import Sequential\n",
    "from keras.layers import Dense, Conv1D, MaxPooling1D, Input, SpatialDropout1D, Reshape, Conv2D, MaxPool2D, Concatenate\n",
    "from keras.layers import Dropout, GlobalMaxPooling1D, BatchNormalization, Flatten\n",
    "from keras import regularizers\n",
    "from keras import Model"
   ]
  },
  {
   "cell_type": "code",
   "execution_count": 18,
   "metadata": {},
   "outputs": [],
   "source": [
    "embedding_layer = Embedding(embedding_matrix.shape[0],\n",
    "                            embedding_matrix.shape[1],\n",
    "                            weights=[embedding_matrix],\n",
    "                            input_length=max_len,\n",
    "                            trainable=True)"
   ]
  },
  {
   "cell_type": "code",
   "execution_count": 19,
   "metadata": {},
   "outputs": [
    {
     "name": "stdout",
     "output_type": "stream",
     "text": [
      "_________________________________________________________________\n",
      "Layer (type)                 Output Shape              Param #   \n",
      "=================================================================\n",
      "embedding_1 (Embedding)      (None, 371, 300)          63101400  \n",
      "_________________________________________________________________\n",
      "conv1d_1 (Conv1D)            (None, 371, 64)           96064     \n",
      "_________________________________________________________________\n",
      "max_pooling1d_1 (MaxPooling1 (None, 185, 64)           0         \n",
      "_________________________________________________________________\n",
      "batch_normalization_1 (Batch (None, 185, 64)           256       \n",
      "_________________________________________________________________\n",
      "conv1d_2 (Conv1D)            (None, 185, 64)           20544     \n",
      "_________________________________________________________________\n",
      "global_max_pooling1d_1 (Glob (None, 64)                0         \n",
      "_________________________________________________________________\n",
      "batch_normalization_2 (Batch (None, 64)                256       \n",
      "_________________________________________________________________\n",
      "dropout_1 (Dropout)          (None, 64)                0         \n",
      "_________________________________________________________________\n",
      "dense_1 (Dense)              (None, 32)                2080      \n",
      "_________________________________________________________________\n",
      "dropout_2 (Dropout)          (None, 32)                0         \n",
      "_________________________________________________________________\n",
      "dense_2 (Dense)              (None, 6)                 198       \n",
      "=================================================================\n",
      "Total params: 63,220,798\n",
      "Trainable params: 63,220,542\n",
      "Non-trainable params: 256\n",
      "_________________________________________________________________\n"
     ]
    }
   ],
   "source": [
    "model = Sequential()\n",
    "\n",
    "# embedding layer\n",
    "model.add(embedding_layer)\n",
    "\n",
    "# convolution 1D layer\n",
    "model.add(Conv1D(filters=64, kernel_size=5, activation='relu', padding='same'))\n",
    "model.add(MaxPooling1D(2))\n",
    "model.add(BatchNormalization())\n",
    "\n",
    "# convolution 1D layer\n",
    "model.add(Conv1D(filters=64, kernel_size=5, activation='relu', padding='same'))\n",
    "model.add(GlobalMaxPooling1D())\n",
    "model.add(BatchNormalization())\n",
    "model.add(Dropout(0.3))\n",
    "\n",
    "# fully connected layer\n",
    "model.add(Dense(32, activation='relu'))\n",
    "model.add(Dropout(0.3))\n",
    "\n",
    "# output layer\n",
    "model.add(Dense(6, activation='sigmoid')) # multi-label\n",
    "\n",
    "# summarize model\n",
    "model.summary()"
   ]
  },
  {
   "cell_type": "code",
   "execution_count": 20,
   "metadata": {},
   "outputs": [],
   "source": [
    "model.compile(loss='binary_crossentropy', optimizer='Adam', metrics=['accuracy'])"
   ]
  },
  {
   "cell_type": "markdown",
   "metadata": {},
   "source": [
    "Split the dataset into train and validation data :"
   ]
  },
  {
   "cell_type": "code",
   "execution_count": 21,
   "metadata": {},
   "outputs": [
    {
     "name": "stderr",
     "output_type": "stream",
     "text": [
      "/usr/local/lib/python3.5/dist-packages/sklearn/model_selection/_split.py:2026: FutureWarning: From version 0.21, test_size will always complement train_size unless both are specified.\n",
      "  FutureWarning)\n"
     ]
    }
   ],
   "source": [
    "X, X_val, y, y_val = train_test_split(data_train, y_train, train_size=0.20, shuffle=True)"
   ]
  },
  {
   "cell_type": "markdown",
   "metadata": {},
   "source": [
    "##### callbacks"
   ]
  },
  {
   "cell_type": "markdown",
   "metadata": {},
   "source": [
    "- roc_auc_callback : evaluate the roc auc score on the validation data at each epoch\n",
    "- EarlyStopping : interrupt the learning task when the model stop to improve\n",
    "- ModelChekpoint : save the best model"
   ]
  },
  {
   "cell_type": "code",
   "execution_count": 22,
   "metadata": {},
   "outputs": [],
   "source": [
    "class roc_auc_callback(Callback):\n",
    "    def __init__(self, validation_data, interval=1):\n",
    "        super(Callback, self).__init__()\n",
    "        self.interval = interval\n",
    "        self.X_val, self.y_val = validation_data\n",
    "        self.y_pred = np.zeros(self.y_val.shape)\n",
    "\n",
    "    def on_epoch_end(self, epoch, logs={}):\n",
    "        start = time.time()\n",
    "        if epoch % self.interval == 0:\n",
    "            y_pred = self.model.predict_proba(self.X_val, verbose=0)\n",
    "            score = roc_auc_score(self.y_val, y_pred)\n",
    "            logs['roc_auc_val'] = score\n",
    "            dur = time.time() - start\n",
    "            print('\\r%.2fs - roc_auc_val: %s' % (dur, str(round(score,5)),), end=10*' '+'\\n')"
   ]
  },
  {
   "cell_type": "code",
   "execution_count": 23,
   "metadata": {},
   "outputs": [],
   "source": [
    "filepath = \"logs_FastText\"\n",
    "# create folder if not exists\n",
    "if not os.path.exists(filepath):\n",
    "    os.makedirs(filepath)\n",
    "\n",
    "callbacks=[roc_auc_callback(validation_data=(X_val, y_val), interval=1),\n",
    "           EarlyStopping(monitor='roc_auc_val', patience=10, min_delta=1e-4, verbose=1, mode='max'),\n",
    "           ModelCheckpoint(os.path.join(filepath, 'best_model.h5'), monitor='roc_auc_val',\\\n",
    "                           save_best_only=True,save_weights_only=True, period=1, mode='max', verbose=1)]"
   ]
  },
  {
   "cell_type": "code",
   "execution_count": 24,
   "metadata": {},
   "outputs": [
    {
     "name": "stdout",
     "output_type": "stream",
     "text": [
      "Train on 31914 samples, validate on 127657 samples\n",
      "Epoch 1/100\n",
      "31914/31914 [==============================] - 20s 638us/step - loss: 0.2384 - acc: 0.9030 - val_loss: 0.0648 - val_acc: 0.9794\n",
      "11.69s - roc_auc_val: 0.95326          \n",
      "\n",
      "Epoch 00001: roc_auc_val improved from -inf to 0.95326, saving model to logs_FastText/best_model.h5\n",
      "Epoch 2/100\n",
      "31914/31914 [==============================] - 18s 548us/step - loss: 0.0689 - acc: 0.9776 - val_loss: 0.0535 - val_acc: 0.9811\n",
      "11.11s - roc_auc_val: 0.9666          \n",
      "\n",
      "Epoch 00002: roc_auc_val improved from 0.95326 to 0.96660, saving model to logs_FastText/best_model.h5\n",
      "Epoch 3/100\n",
      "31914/31914 [==============================] - 17s 546us/step - loss: 0.0509 - acc: 0.9823 - val_loss: 0.0539 - val_acc: 0.9812\n",
      "11.43s - roc_auc_val: 0.96938          \n",
      "\n",
      "Epoch 00003: roc_auc_val improved from 0.96660 to 0.96938, saving model to logs_FastText/best_model.h5\n",
      "Epoch 4/100\n",
      "31914/31914 [==============================] - 18s 550us/step - loss: 0.0425 - acc: 0.9842 - val_loss: 0.0627 - val_acc: 0.9755\n",
      "11.10s - roc_auc_val: 0.96723          \n",
      "\n",
      "Epoch 00004: roc_auc_val did not improve\n",
      "Epoch 5/100\n",
      "31914/31914 [==============================] - 18s 549us/step - loss: 0.0372 - acc: 0.9859 - val_loss: 0.0639 - val_acc: 0.9760\n",
      "11.40s - roc_auc_val: 0.96627          \n",
      "\n",
      "Epoch 00005: roc_auc_val did not improve\n",
      "Epoch 6/100\n",
      "31914/31914 [==============================] - 17s 547us/step - loss: 0.0348 - acc: 0.9868 - val_loss: 0.0563 - val_acc: 0.9805\n",
      "11.13s - roc_auc_val: 0.9717          \n",
      "\n",
      "Epoch 00006: roc_auc_val improved from 0.96938 to 0.97170, saving model to logs_FastText/best_model.h5\n",
      "Epoch 7/100\n",
      "31914/31914 [==============================] - 18s 552us/step - loss: 0.0315 - acc: 0.9875 - val_loss: 0.0600 - val_acc: 0.9779\n",
      "11.43s - roc_auc_val: 0.97031          \n",
      "\n",
      "Epoch 00007: roc_auc_val did not improve\n",
      "Epoch 8/100\n",
      "31914/31914 [==============================] - 18s 550us/step - loss: 0.0289 - acc: 0.9886 - val_loss: 0.0689 - val_acc: 0.9803\n",
      "11.18s - roc_auc_val: 0.97116          \n",
      "\n",
      "Epoch 00008: roc_auc_val did not improve\n",
      "Epoch 9/100\n",
      "31914/31914 [==============================] - 18s 549us/step - loss: 0.0269 - acc: 0.9894 - val_loss: 0.0706 - val_acc: 0.9812\n",
      "11.47s - roc_auc_val: 0.97429          \n",
      "\n",
      "Epoch 00009: roc_auc_val improved from 0.97170 to 0.97429, saving model to logs_FastText/best_model.h5\n",
      "Epoch 10/100\n",
      "31914/31914 [==============================] - 18s 551us/step - loss: 0.0249 - acc: 0.9899 - val_loss: 0.0708 - val_acc: 0.9813\n",
      "11.16s - roc_auc_val: 0.97389          \n",
      "\n",
      "Epoch 00010: roc_auc_val did not improve\n",
      "Epoch 11/100\n",
      "31914/31914 [==============================] - 18s 550us/step - loss: 0.0228 - acc: 0.9910 - val_loss: 0.0865 - val_acc: 0.9814\n",
      "11.49s - roc_auc_val: 0.97358          \n",
      "\n",
      "Epoch 00011: roc_auc_val did not improve\n",
      "Epoch 12/100\n",
      "31914/31914 [==============================] - 17s 546us/step - loss: 0.0209 - acc: 0.9914 - val_loss: 0.0750 - val_acc: 0.9811\n",
      "11.13s - roc_auc_val: 0.97354          \n",
      "\n",
      "Epoch 00012: roc_auc_val did not improve\n",
      "Epoch 13/100\n",
      "31914/31914 [==============================] - 18s 549us/step - loss: 0.0196 - acc: 0.9917 - val_loss: 0.0786 - val_acc: 0.9809\n",
      "11.48s - roc_auc_val: 0.97436          \n",
      "\n",
      "Epoch 00013: roc_auc_val improved from 0.97429 to 0.97436, saving model to logs_FastText/best_model.h5\n",
      "Epoch 14/100\n",
      "31914/31914 [==============================] - 17s 548us/step - loss: 0.0178 - acc: 0.9926 - val_loss: 0.0775 - val_acc: 0.9797\n",
      "11.23s - roc_auc_val: 0.97328          \n",
      "\n",
      "Epoch 00014: roc_auc_val did not improve\n",
      "Epoch 15/100\n",
      "31914/31914 [==============================] - 17s 547us/step - loss: 0.0155 - acc: 0.9935 - val_loss: 0.0954 - val_acc: 0.9805\n",
      "11.37s - roc_auc_val: 0.97126          \n",
      "\n",
      "Epoch 00015: roc_auc_val did not improve\n",
      "Epoch 16/100\n",
      "31914/31914 [==============================] - 17s 543us/step - loss: 0.0149 - acc: 0.9938 - val_loss: 0.0822 - val_acc: 0.9802\n",
      "9.52s - roc_auc_val: 0.97351          \n",
      "\n",
      "Epoch 00016: roc_auc_val did not improve\n",
      "Epoch 17/100\n",
      "31914/31914 [==============================] - 17s 519us/step - loss: 0.0144 - acc: 0.9941 - val_loss: 0.1027 - val_acc: 0.9811\n",
      "9.53s - roc_auc_val: 0.9727          \n",
      "\n",
      "Epoch 00017: roc_auc_val did not improve\n",
      "Epoch 18/100\n",
      "31914/31914 [==============================] - 17s 517us/step - loss: 0.0134 - acc: 0.9947 - val_loss: 0.0942 - val_acc: 0.9809\n",
      "9.53s - roc_auc_val: 0.97414          \n",
      "\n",
      "Epoch 00018: roc_auc_val did not improve\n",
      "Epoch 19/100\n",
      "31914/31914 [==============================] - 17s 518us/step - loss: 0.0125 - acc: 0.9951 - val_loss: 0.0988 - val_acc: 0.9810\n",
      "9.51s - roc_auc_val: 0.97318          \n",
      "\n",
      "Epoch 00019: roc_auc_val did not improve\n",
      "Epoch 00019: early stopping\n",
      "CPU times: user 11min 9s, sys: 9min 52s, total: 21min 2s\n",
      "Wall time: 9min 3s\n"
     ]
    }
   ],
   "source": [
    "%%time\n",
    "\n",
    "history = model.fit(X, y, batch_size=128, epochs=100, validation_data=(X_val, y_val), \n",
    "                    callbacks=callbacks, verbose=1)"
   ]
  },
  {
   "cell_type": "markdown",
   "metadata": {},
   "source": [
    "### Plotting the results"
   ]
  },
  {
   "cell_type": "code",
   "execution_count": 25,
   "metadata": {},
   "outputs": [
    {
     "data": {
      "text/plain": [
       "Text(0.5,0,'epoch')"
      ]
     },
     "execution_count": 25,
     "metadata": {},
     "output_type": "execute_result"
    },
    {
     "data": {
      "image/png": "[encoded data removed]",
      "text/plain": [
       "<Figure size 1440x360 with 3 Axes>"
      ]
     },
     "metadata": {},
     "output_type": "display_data"
    }
   ],
   "source": [
    "fig, axes = plt.subplots(1, 3, figsize=(20,5))\n",
    "\n",
    "axes[0].plot(history.history['acc'], label='train')\n",
    "axes[0].plot(history.history['val_acc'], label='test')\n",
    "axes[0].set_title('model accuracy')\n",
    "axes[0].set_ylabel('accuracy')\n",
    "axes[0].set_xlabel('epoch')\n",
    "axes[0].legend()\n",
    "\n",
    "axes[1].plot(history.history['loss'], label='train')\n",
    "axes[1].plot(history.history['val_loss'], label='test')\n",
    "axes[1].set_title('model loss')\n",
    "axes[1].set_ylabel('loss')\n",
    "axes[1].set_xlabel('epoch')\n",
    "axes[1].legend()\n",
    "\n",
    "axes[2].plot(history.history['roc_auc_val'])\n",
    "axes[2].set_title('model Roc AUC score on validation data')\n",
    "axes[2].set_ylabel('roc auc score')\n",
    "axes[2].set_xlabel('epoch')\n"
   ]
  },
  {
   "cell_type": "markdown",
   "metadata": {},
   "source": [
    "### Load best model"
   ]
  },
  {
   "cell_type": "code",
   "execution_count": 26,
   "metadata": {},
   "outputs": [],
   "source": [
    "model.load_weights(filepath+'/'+'best_model.h5')"
   ]
  },
  {
   "cell_type": "markdown",
   "metadata": {},
   "source": [
    "### Predict labels of test comments"
   ]
  },
  {
   "cell_type": "code",
   "execution_count": 27,
   "metadata": {},
   "outputs": [],
   "source": [
    "pred = model.predict(data_test)"
   ]
  },
  {
   "cell_type": "code",
   "execution_count": 28,
   "metadata": {},
   "outputs": [
    {
     "name": "stdout",
     "output_type": "stream",
     "text": [
      "['toxic', 'severe_toxic', 'obscene', 'threat', 'insult', 'identity_hate']\n"
     ]
    }
   ],
   "source": [
    "classes = []\n",
    "for i in range(2,len(df_train.columns)):\n",
    "    classes.append(df_train.columns[i])\n",
    "print(classes)"
   ]
  },
  {
   "cell_type": "code",
   "execution_count": 29,
   "metadata": {},
   "outputs": [],
   "source": [
    "sample_submission[classes] = pred\n",
    "sample_submission.to_csv(\"submission2.csv\", index=False)"
   ]
  }
 ],
 "metadata": {
  "kernelspec": {
   "display_name": "Python 3",
   "language": "python",
   "name": "python3"
  },
  "language_info": {
   "codemirror_mode": {
    "name": "ipython",
    "version": 3
   },
   "file_extension": ".py",
   "mimetype": "text/x-python",
   "name": "python",
   "nbconvert_exporter": "python",
   "pygments_lexer": "ipython3",
   "version": "3.5.2"
  }
 },
 "nbformat": 4,
 "nbformat_minor": 2
}
