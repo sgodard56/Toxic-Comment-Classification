{
 "cells": [
  {
   "cell_type": "markdown",
   "metadata": {},
   "source": [
    "# Toxic Comment Classification Challenge"
   ]
  },
  {
   "cell_type": "markdown",
   "metadata": {},
   "source": [
    "(see https://www.kaggle.com/c/jigsaw-toxic-comment-classification-challenge/).   \n"
   ]
  },
  {
   "cell_type": "markdown",
   "metadata": {},
   "source": [
    "##### control the use of the gpu"
   ]
  },
  {
   "cell_type": "code",
   "execution_count": 1,
   "metadata": {},
   "outputs": [],
   "source": [
    "import time\n",
    "\n",
    "import os\n",
    "os.environ[\"CUDA_DEVICE_ORDER\"] = \"PCI_BUS_ID\"\n",
    "os.environ[\"CUDA_VISIBLE_DEVICES\"] = \"3\""
   ]
  },
  {
   "cell_type": "markdown",
   "metadata": {},
   "source": [
    "##### import libraries"
   ]
  },
  {
   "cell_type": "code",
   "execution_count": 2,
   "metadata": {},
   "outputs": [
    {
     "name": "stderr",
     "output_type": "stream",
     "text": [
      "/usr/local/lib/python3.5/dist-packages/h5py/__init__.py:36: FutureWarning: Conversion of the second argument of issubdtype from `float` to `np.floating` is deprecated. In future, it will be treated as `np.float64 == np.dtype(float).type`.\n",
      "  from ._conv import register_converters as _register_converters\n",
      "Using TensorFlow backend.\n"
     ]
    }
   ],
   "source": [
    "import numpy as np\n",
    "import pandas as pd\n",
    "\n",
    "%matplotlib inline\n",
    "import matplotlib.pyplot as plt\n",
    "\n",
    "import random\n",
    "import h5py\n",
    "\n",
    "from sklearn.model_selection import train_test_split\n",
    "from sklearn.metrics import roc_auc_score\n",
    "\n",
    "import keras\n",
    "from keras.preprocessing.text import Tokenizer\n",
    "from keras.preprocessing.sequence import pad_sequences\n",
    "from keras.layers.embeddings import Embedding\n",
    "from keras.callbacks import Callback\n",
    "from keras.callbacks import EarlyStopping, ModelCheckpoint\n",
    "from keras.models import load_model"
   ]
  },
  {
   "cell_type": "markdown",
   "metadata": {},
   "source": [
    "## Read data"
   ]
  },
  {
   "cell_type": "markdown",
   "metadata": {},
   "source": [
    "##### read data as dataframes with pandas"
   ]
  },
  {
   "cell_type": "code",
   "execution_count": 3,
   "metadata": {},
   "outputs": [],
   "source": [
    "df_train = pd.read_table('data/train.csv',sep=',',header=0)\n",
    "df_test = pd.read_table('data/test.csv',sep=',',header=0)\n",
    "sample_submission = pd.read_table('data/sample_submission.csv',sep=',',header=0)"
   ]
  },
  {
   "cell_type": "code",
   "execution_count": 4,
   "metadata": {},
   "outputs": [
    {
     "name": "stdout",
     "output_type": "stream",
     "text": [
      "The training dataset contains 159571 examples.\n",
      "The dataframe is composed of 8 columns:\n",
      "id\n",
      "comment_text\n",
      "toxic\n",
      "severe_toxic\n",
      "obscene\n",
      "threat\n",
      "insult\n",
      "identity_hate\n"
     ]
    }
   ],
   "source": [
    "print(\"The training dataset contains\",df_train.shape[0],\"examples.\")\n",
    "print(\"The dataframe is composed of\",df_train.shape[1],\"columns:\")\n",
    "for i in range(len(df_train.columns)): print(df_train.columns[i])"
   ]
  },
  {
   "cell_type": "code",
   "execution_count": 5,
   "metadata": {},
   "outputs": [],
   "source": [
    "id_train = df_train['id']\n",
    "x_train = df_train['comment_text']\n",
    "y_train = df_train.iloc[:, 2:].values\n",
    "\n",
    "id_test = df_test['id']\n",
    "x_test = df_test['comment_text']"
   ]
  },
  {
   "cell_type": "markdown",
   "metadata": {},
   "source": [
    "##### display some examples of comments"
   ]
  },
  {
   "cell_type": "code",
   "execution_count": 6,
   "metadata": {},
   "outputs": [
    {
     "name": "stdout",
     "output_type": "stream",
     "text": [
      "[51608, 85761, 87029]\n",
      "Comment:  \"\n",
      "\n",
      "edit:\n",
      "Ok, forget it, I am honored by this ban actually, this is the kid that decided to ban me:\n",
      "http://upload.wikimedia.org/wikipedia/commons/thumb/7/79/User-Coffee_in_dorms.png/300px-User-Coffee_in_dorms.png\n",
      "And I am sitting here arguing rationally, wasting my time -and here you go have your \"\"harassment\"\" for real for a change-  over some snotty moron kid with too much time on his hands who claims (man, this is just so funny) that they: \"\"I'm not someone who likes to beat around the bush, so usually you'll see me in discussions being extremely blunt, and sometimes it might seem uncivil, but anything I say is not meant to hurt someone, it's usually just the way I feel.\"\" What I do wonder is which of the ten or so sentences I 've written in wikipedia got on the wrong side of this delusional bozo. \n",
      "Snotty 17 year olds projecting their daddy and mammy issues on the world. Oh the joy of wiki and cyberspace. Hey kid, guess what you banned me asshole, now go back to your pathetic little life.\n",
      "\"\n",
      "Labels:    [1 0 0 0 0 0]\n",
      "\n",
      "\n",
      "Comment:  In addition, we usually leave it up to the user who created a subpage in their userspace to edit it, unlike this.\n",
      "Labels:    [0 0 0 0 0 0]\n",
      "\n",
      "\n",
      "Comment:  is tat a banana in your packet or are you just happy to see me?\n",
      "Labels:    [0 0 0 0 0 0]\n",
      "\n",
      "\n"
     ]
    }
   ],
   "source": [
    "# select randomly some examples\n",
    "examples = random.sample(range(x_train.shape[0]),3)\n",
    "\n",
    "print(examples)\n",
    "for ex in examples:\n",
    "    print('Comment:  {}'.format(x_train[ex]))\n",
    "    print('Labels:    {}'.format(y_train[ex]))\n",
    "    print('\\n')"
   ]
  },
  {
   "cell_type": "markdown",
   "metadata": {},
   "source": [
    "## Preprocess data"
   ]
  },
  {
   "cell_type": "markdown",
   "metadata": {},
   "source": [
    "### Tokenizer"
   ]
  },
  {
   "cell_type": "markdown",
   "metadata": {},
   "source": [
    "Create a tokenizer, which whill be use to vectorize the text of the comments (see: https://keras.io/preprocessing/text/ ).   \n",
    "Then, fit the tokenizer on the training dataset and run it on the training and testing comments."
   ]
  },
  {
   "cell_type": "code",
   "execution_count": 7,
   "metadata": {},
   "outputs": [],
   "source": [
    "# create tokenizer\n",
    "max_num_words = None\n",
    "\n",
    "tokenizer = Tokenizer(num_words = max_num_words, filters='!\"#$%&()*+,-./:;<=>?@[\\]^_`{|}~\\t\\n',\n",
    "                      lower=True, split=' ', char_level=False, oov_token=None)"
   ]
  },
  {
   "cell_type": "code",
   "execution_count": 8,
   "metadata": {},
   "outputs": [],
   "source": [
    "# fit tokenizer\n",
    "tokenizer.fit_on_texts(list(x_train))"
   ]
  },
  {
   "cell_type": "code",
   "execution_count": 9,
   "metadata": {},
   "outputs": [
    {
     "name": "stdout",
     "output_type": "stream",
     "text": [
      "The tokenizer founds 210337 unique tokens.\n"
     ]
    }
   ],
   "source": [
    "word_index = tokenizer.word_index # dictionnary of words whith their indexes (uniquely assigned integers)\n",
    "\n",
    "voc_size = len(word_index)\n",
    "print('The tokenizer founds {} unique tokens.' .format(voc_size))"
   ]
  },
  {
   "cell_type": "code",
   "execution_count": 10,
   "metadata": {},
   "outputs": [],
   "source": [
    "# run tokenizer\n",
    "seq_train = tokenizer.texts_to_sequences(x_train)\n",
    "seq_test = tokenizer.texts_to_sequences(x_test)"
   ]
  },
  {
   "cell_type": "code",
   "execution_count": 11,
   "metadata": {},
   "outputs": [
    {
     "name": "stdout",
     "output_type": "stream",
     "text": [
      "The average length of the training sequences is 68.22156908210138 with a standard deviation of 101.07344657013672.\n",
      "The longest sequence has a size of 1403, and the shortest only 1.\n"
     ]
    }
   ],
   "source": [
    "avg_len = np.mean([len(seq) for seq in seq_train])\n",
    "std_len = np.std([len(seq) for seq in seq_train])\n",
    "longest_len = max(len(seq) for seq in seq_train)\n",
    "shortest_len = min(len(seq) for seq in seq_train)\n",
    "\n",
    "print(\"The average length of the training sequences is {} with a standard deviation of {}.\".format(avg_len,std_len))\n",
    "print(\"The longest sequence has a size of {}, and the shortest only {}.\".format(longest_len,shortest_len))"
   ]
  },
  {
   "cell_type": "code",
   "execution_count": 12,
   "metadata": {},
   "outputs": [
    {
     "name": "stdout",
     "output_type": "stream",
     "text": [
      "The maximum length for the sequences is fixed at 371.\n"
     ]
    }
   ],
   "source": [
    "# Fix a maximum length for the sequences\n",
    "max_len = int(avg_len + std_len * 3)\n",
    "print(\"The maximum length for the sequences is fixed at {}.\" .format(max_len))"
   ]
  },
  {
   "cell_type": "markdown",
   "metadata": {},
   "source": [
    "### pad_sequences"
   ]
  },
  {
   "cell_type": "markdown",
   "metadata": {},
   "source": [
    "Pads the sequences to the same length : \"max_size\". Sequences shorter than \"max_size\" are padded with \"0\" and the end, and sequences longer are truncated.   \n",
    "(see https://keras.io/preprocessing/sequence/ )."
   ]
  },
  {
   "cell_type": "code",
   "execution_count": 13,
   "metadata": {},
   "outputs": [
    {
     "name": "stdout",
     "output_type": "stream",
     "text": [
      "Shape of training data tensor: (159571, 371)\n",
      "Shape of test data tensor: (153164, 371)\n"
     ]
    }
   ],
   "source": [
    "data_train = pad_sequences(seq_train, maxlen=max_len, padding='post', truncating='post', value=0)\n",
    "data_test = pad_sequences(seq_test, maxlen=max_len, padding='post', truncating='post', value=0)\n",
    "\n",
    "print('Shape of training data tensor:', data_train.shape)\n",
    "print('Shape of test data tensor:', data_test.shape)"
   ]
  },
  {
   "cell_type": "markdown",
   "metadata": {},
   "source": [
    "### Embedding"
   ]
  },
  {
   "cell_type": "markdown",
   "metadata": {},
   "source": [
    "### using FastText"
   ]
  },
  {
   "cell_type": "markdown",
   "metadata": {},
   "source": [
    "##### get embeddings"
   ]
  },
  {
   "cell_type": "code",
   "execution_count": 14,
   "metadata": {},
   "outputs": [
    {
     "name": "stdout",
     "output_type": "stream",
     "text": [
      "Found 2519371 words vectors, with dim=300.\n"
     ]
    }
   ],
   "source": [
    "embedding_dim = 300\n",
    "\n",
    "embeddings_index = {}\n",
    "f = open('wiki.en.vec')\n",
    "for line in f:\n",
    "    values = line.rstrip().rsplit(' ', embedding_dim)\n",
    "    word = values[0]\n",
    "    coefs = np.asarray(values[1:], dtype='float32')\n",
    "    embeddings_index[word] = coefs\n",
    "f.close()\n",
    "\n",
    "embedding_dim = next(iter(embeddings_index.values())).shape[0]\n",
    "\n",
    "print(\"Found {} words vectors, with dim={}.\".format(len(embeddings_index),embedding_dim))"
   ]
  },
  {
   "cell_type": "markdown",
   "metadata": {},
   "source": [
    "###### construct the embedding matrix\n",
    "It maps words to vectors in the specified embedding dimension (\"embedding_dim\")."
   ]
  },
  {
   "cell_type": "code",
   "execution_count": 15,
   "metadata": {},
   "outputs": [
    {
     "name": "stdout",
     "output_type": "stream",
     "text": [
      "Dimensions of the embedding matrix = (210338, 300)\n"
     ]
    }
   ],
   "source": [
    "embedding_matrix = np.zeros((len(word_index) + 1, embedding_dim))\n",
    "\n",
    "for word, i in word_index.items():\n",
    "    embedding_vector = embeddings_index.get(word)\n",
    "    if embedding_vector is not None:\n",
    "        embedding_matrix[i] = embedding_vector \n",
    "    # words not found in embedding index will be all-zeros.\n",
    "\n",
    "print(\"Dimensions of the embedding matrix = {}\".format(embedding_matrix.shape))"
   ]
  },
  {
   "cell_type": "markdown",
   "metadata": {},
   "source": [
    "##### save embeddings"
   ]
  },
  {
   "cell_type": "code",
   "execution_count": 16,
   "metadata": {},
   "outputs": [],
   "source": [
    "with h5py.File('embeddings_fasttext', 'w') as hf:\n",
    "    hf.create_dataset(\"fasttext\",  data=embedding_matrix)"
   ]
  },
  {
   "cell_type": "markdown",
   "metadata": {},
   "source": [
    "## Model"
   ]
  },
  {
   "cell_type": "code",
   "execution_count": 17,
   "metadata": {},
   "outputs": [],
   "source": [
    "import keras\n",
    "import keras.backend as K\n",
    "from keras.models import Sequential\n",
    "from keras.layers import Dense, Conv1D, MaxPooling1D, Input, SpatialDropout1D, Reshape, Conv2D, MaxPool2D, Concatenate\n",
    "from keras.layers import Dropout, GlobalMaxPooling1D, BatchNormalization, Flatten\n",
    "from keras import regularizers\n",
    "from keras import Model"
   ]
  },
  {
   "cell_type": "code",
   "execution_count": 18,
   "metadata": {},
   "outputs": [],
   "source": [
    "embedding_layer = Embedding(embedding_matrix.shape[0],\n",
    "                            embedding_matrix.shape[1],\n",
    "                            weights=[embedding_matrix],\n",
    "                            input_length=max_len,\n",
    "                            trainable=True)"
   ]
  },
  {
   "cell_type": "code",
   "execution_count": 19,
   "metadata": {},
   "outputs": [
    {
     "name": "stdout",
     "output_type": "stream",
     "text": [
      "_________________________________________________________________\n",
      "Layer (type)                 Output Shape              Param #   \n",
      "=================================================================\n",
      "embedding_1 (Embedding)      (None, 371, 300)          63101400  \n",
      "_________________________________________________________________\n",
      "conv1d_1 (Conv1D)            (None, 371, 64)           96064     \n",
      "_________________________________________________________________\n",
      "max_pooling1d_1 (MaxPooling1 (None, 185, 64)           0         \n",
      "_________________________________________________________________\n",
      "batch_normalization_1 (Batch (None, 185, 64)           256       \n",
      "_________________________________________________________________\n",
      "conv1d_2 (Conv1D)            (None, 185, 64)           20544     \n",
      "_________________________________________________________________\n",
      "global_max_pooling1d_1 (Glob (None, 64)                0         \n",
      "_________________________________________________________________\n",
      "batch_normalization_2 (Batch (None, 64)                256       \n",
      "_________________________________________________________________\n",
      "dropout_1 (Dropout)          (None, 64)                0         \n",
      "_________________________________________________________________\n",
      "dense_1 (Dense)              (None, 32)                2080      \n",
      "_________________________________________________________________\n",
      "dropout_2 (Dropout)          (None, 32)                0         \n",
      "_________________________________________________________________\n",
      "dense_2 (Dense)              (None, 6)                 198       \n",
      "=================================================================\n",
      "Total params: 63,220,798\n",
      "Trainable params: 63,220,542\n",
      "Non-trainable params: 256\n",
      "_________________________________________________________________\n"
     ]
    }
   ],
   "source": [
    "model = Sequential()\n",
    "\n",
    "# embedding layer\n",
    "model.add(embedding_layer)\n",
    "\n",
    "# convolution 1D layer\n",
    "model.add(Conv1D(filters=64, kernel_size=5, activation='relu', padding='same'))\n",
    "model.add(MaxPooling1D(2))\n",
    "model.add(BatchNormalization())\n",
    "\n",
    "# convolution 1D layer\n",
    "model.add(Conv1D(filters=64, kernel_size=5, activation='relu', padding='same'))\n",
    "model.add(GlobalMaxPooling1D())\n",
    "model.add(BatchNormalization())\n",
    "model.add(Dropout(0.3))\n",
    "\n",
    "# fully connected layer\n",
    "model.add(Dense(32, activation='relu'))\n",
    "model.add(Dropout(0.3))\n",
    "\n",
    "# output layer\n",
    "model.add(Dense(6, activation='sigmoid')) # multi-label\n",
    "\n",
    "# summarize model\n",
    "model.summary()"
   ]
  },
  {
   "cell_type": "code",
   "execution_count": 20,
   "metadata": {},
   "outputs": [],
   "source": [
    "model.compile(loss='binary_crossentropy', optimizer='Adam', metrics=['accuracy'])"
   ]
  },
  {
   "cell_type": "markdown",
   "metadata": {},
   "source": [
    "Split the dataset into train and validation data :"
   ]
  },
  {
   "cell_type": "code",
   "execution_count": 21,
   "metadata": {},
   "outputs": [
    {
     "name": "stderr",
     "output_type": "stream",
     "text": [
      "/usr/local/lib/python3.5/dist-packages/sklearn/model_selection/_split.py:2026: FutureWarning: From version 0.21, test_size will always complement train_size unless both are specified.\n",
      "  FutureWarning)\n"
     ]
    }
   ],
   "source": [
    "X, X_val, y, y_val = train_test_split(data_train, y_train, train_size=0.1, shuffle=True)"
   ]
  },
  {
   "cell_type": "markdown",
   "metadata": {},
   "source": [
    "##### callbacks"
   ]
  },
  {
   "cell_type": "markdown",
   "metadata": {},
   "source": [
    "- roc_auc_callback : evaluate the roc auc score on the validation data at each epoch\n",
    "- EarlyStopping : interrupt the learning task when the model stop to improve\n",
    "- ModelChekpoint : save the best model"
   ]
  },
  {
   "cell_type": "code",
   "execution_count": 22,
   "metadata": {},
   "outputs": [],
   "source": [
    "class roc_auc_callback(Callback):\n",
    "    def __init__(self, validation_data, interval=1):\n",
    "        super(Callback, self).__init__()\n",
    "        self.interval = interval\n",
    "        self.X_val, self.y_val = validation_data\n",
    "        self.y_pred = np.zeros(self.y_val.shape)\n",
    "\n",
    "    def on_epoch_end(self, epoch, logs={}):\n",
    "        start = time.time()\n",
    "        if epoch % self.interval == 0:\n",
    "            y_pred = self.model.predict_proba(self.X_val, verbose=0)\n",
    "            score = roc_auc_score(self.y_val, y_pred)\n",
    "            logs['roc_auc_val'] = score\n",
    "            dur = time.time() - start\n",
    "            print('\\r%.2fs - roc_auc_val: %s' % (dur, str(round(score,5)),), end=10*' '+'\\n')"
   ]
  },
  {
   "cell_type": "code",
   "execution_count": 23,
   "metadata": {},
   "outputs": [],
   "source": [
    "filepath = \"logs_FastText\"\n",
    "# create folder if not exists\n",
    "if not os.path.exists(filepath):\n",
    "    os.makedirs(filepath)\n",
    "\n",
    "callbacks=[roc_auc_callback(validation_data=(X_val, y_val), interval=1),\n",
    "           EarlyStopping(monitor='roc_auc_val', patience=10, min_delta=1e-4, verbose=1, mode='max'),\n",
    "           ModelCheckpoint(os.path.join(filepath, 'best_model.h5'), monitor='roc_auc_val',\\\n",
    "                           save_best_only=True,save_weights_only=True, period=1, mode='max', verbose=1)]"
   ]
  },
  {
   "cell_type": "code",
   "execution_count": 24,
   "metadata": {},
   "outputs": [
    {
     "name": "stdout",
     "output_type": "stream",
     "text": [
      "Train on 15957 samples, validate on 143614 samples\n",
      "Epoch 1/100\n",
      "15957/15957 [==============================] - 15s 933us/step - loss: 0.2992 - acc: 0.8722 - val_loss: 0.0815 - val_acc: 0.9735\n",
      "13.33s - roc_auc_val: 0.93671          \n",
      "\n",
      "Epoch 00001: roc_auc_val improved from -inf to 0.93671, saving model to logs_FastText/best_model.h5\n",
      "Epoch 2/100\n",
      "15957/15957 [==============================] - 12s 750us/step - loss: 0.0895 - acc: 0.9702 - val_loss: 0.0644 - val_acc: 0.9794\n",
      "12.57s - roc_auc_val: 0.94437          \n",
      "\n",
      "Epoch 00002: roc_auc_val improved from 0.93671 to 0.94437, saving model to logs_FastText/best_model.h5\n",
      "Epoch 3/100\n",
      "15957/15957 [==============================] - 12s 753us/step - loss: 0.0616 - acc: 0.9782 - val_loss: 0.0575 - val_acc: 0.9803\n",
      "12.93s - roc_auc_val: 0.95839          \n",
      "\n",
      "Epoch 00003: roc_auc_val improved from 0.94437 to 0.95839, saving model to logs_FastText/best_model.h5\n",
      "Epoch 4/100\n",
      "15957/15957 [==============================] - 12s 755us/step - loss: 0.0491 - acc: 0.9823 - val_loss: 0.0595 - val_acc: 0.9802\n",
      "12.57s - roc_auc_val: 0.95485          \n",
      "\n",
      "Epoch 00004: roc_auc_val did not improve\n",
      "Epoch 5/100\n",
      "15957/15957 [==============================] - 12s 761us/step - loss: 0.0407 - acc: 0.9846 - val_loss: 0.0609 - val_acc: 0.9808\n",
      "12.91s - roc_auc_val: 0.95127          \n",
      "\n",
      "Epoch 00005: roc_auc_val did not improve\n",
      "Epoch 6/100\n",
      "15957/15957 [==============================] - 12s 751us/step - loss: 0.0360 - acc: 0.9863 - val_loss: 0.0601 - val_acc: 0.9801\n",
      "12.63s - roc_auc_val: 0.95485          \n",
      "\n",
      "Epoch 00006: roc_auc_val did not improve\n",
      "Epoch 7/100\n",
      "15957/15957 [==============================] - 12s 759us/step - loss: 0.0331 - acc: 0.9874 - val_loss: 0.0613 - val_acc: 0.9781\n",
      "12.81s - roc_auc_val: 0.95536          \n",
      "\n",
      "Epoch 00007: roc_auc_val did not improve\n",
      "Epoch 8/100\n",
      "15957/15957 [==============================] - 12s 754us/step - loss: 0.0294 - acc: 0.9886 - val_loss: 0.0636 - val_acc: 0.9808\n",
      "12.63s - roc_auc_val: 0.96244          \n",
      "\n",
      "Epoch 00008: roc_auc_val improved from 0.95839 to 0.96244, saving model to logs_FastText/best_model.h5\n",
      "Epoch 9/100\n",
      "15957/15957 [==============================] - 12s 756us/step - loss: 0.0284 - acc: 0.9888 - val_loss: 0.0651 - val_acc: 0.9782\n",
      "12.82s - roc_auc_val: 0.9623          \n",
      "\n",
      "Epoch 00009: roc_auc_val did not improve\n",
      "Epoch 10/100\n",
      "15957/15957 [==============================] - 12s 767us/step - loss: 0.0263 - acc: 0.9899 - val_loss: 0.0785 - val_acc: 0.9809\n",
      "12.69s - roc_auc_val: 0.96296          \n",
      "\n",
      "Epoch 00010: roc_auc_val improved from 0.96244 to 0.96296, saving model to logs_FastText/best_model.h5\n",
      "Epoch 11/100\n",
      "15957/15957 [==============================] - 12s 755us/step - loss: 0.0245 - acc: 0.9903 - val_loss: 0.0652 - val_acc: 0.9786\n",
      "12.82s - roc_auc_val: 0.96348          \n",
      "\n",
      "Epoch 00011: roc_auc_val improved from 0.96296 to 0.96348, saving model to logs_FastText/best_model.h5\n",
      "Epoch 12/100\n",
      "15957/15957 [==============================] - 12s 754us/step - loss: 0.0227 - acc: 0.9912 - val_loss: 0.0695 - val_acc: 0.9797\n",
      "12.70s - roc_auc_val: 0.96311          \n",
      "\n",
      "Epoch 00012: roc_auc_val did not improve\n",
      "Epoch 13/100\n",
      "15957/15957 [==============================] - 12s 760us/step - loss: 0.0218 - acc: 0.9910 - val_loss: 0.0703 - val_acc: 0.9785\n",
      "12.92s - roc_auc_val: 0.96677          \n",
      "\n",
      "Epoch 00013: roc_auc_val improved from 0.96348 to 0.96677, saving model to logs_FastText/best_model.h5\n",
      "Epoch 14/100\n",
      "15957/15957 [==============================] - 12s 758us/step - loss: 0.0205 - acc: 0.9921 - val_loss: 0.0816 - val_acc: 0.9804\n",
      "12.71s - roc_auc_val: 0.96624          \n",
      "\n",
      "Epoch 00014: roc_auc_val did not improve\n",
      "Epoch 15/100\n",
      "15957/15957 [==============================] - 12s 753us/step - loss: 0.0185 - acc: 0.9925 - val_loss: 0.0803 - val_acc: 0.9796\n",
      "13.00s - roc_auc_val: 0.9618          \n",
      "\n",
      "Epoch 00015: roc_auc_val did not improve\n",
      "Epoch 16/100\n",
      "15957/15957 [==============================] - 12s 755us/step - loss: 0.0188 - acc: 0.9925 - val_loss: 0.0858 - val_acc: 0.9809\n",
      "12.69s - roc_auc_val: 0.96645          \n",
      "\n",
      "Epoch 00016: roc_auc_val did not improve\n",
      "Epoch 17/100\n",
      "15957/15957 [==============================] - 12s 756us/step - loss: 0.0175 - acc: 0.9929 - val_loss: 0.0853 - val_acc: 0.9755\n",
      "11.87s - roc_auc_val: 0.96045          \n",
      "\n",
      "Epoch 00017: roc_auc_val did not improve\n",
      "Epoch 18/100\n",
      "15957/15957 [==============================] - 11s 713us/step - loss: 0.0166 - acc: 0.9935 - val_loss: 0.0984 - val_acc: 0.9807\n",
      "10.84s - roc_auc_val: 0.96829          \n",
      "\n",
      "Epoch 00018: roc_auc_val improved from 0.96677 to 0.96829, saving model to logs_FastText/best_model.h5\n",
      "Epoch 19/100\n",
      "15957/15957 [==============================] - 11s 712us/step - loss: 0.0157 - acc: 0.9938 - val_loss: 0.0810 - val_acc: 0.9786\n",
      "10.82s - roc_auc_val: 0.9629          \n",
      "\n",
      "Epoch 00019: roc_auc_val did not improve\n",
      "Epoch 20/100\n",
      "15957/15957 [==============================] - 11s 713us/step - loss: 0.0141 - acc: 0.9945 - val_loss: 0.0833 - val_acc: 0.9796\n",
      "10.85s - roc_auc_val: 0.96491          \n",
      "\n",
      "Epoch 00020: roc_auc_val did not improve\n",
      "Epoch 21/100\n",
      "15957/15957 [==============================] - 11s 710us/step - loss: 0.0137 - acc: 0.9945 - val_loss: 0.0913 - val_acc: 0.9805\n",
      "10.82s - roc_auc_val: 0.96365          \n",
      "\n",
      "Epoch 00021: roc_auc_val did not improve\n",
      "Epoch 22/100\n",
      "15957/15957 [==============================] - 11s 713us/step - loss: 0.0129 - acc: 0.9947 - val_loss: 0.1067 - val_acc: 0.9809\n",
      "10.83s - roc_auc_val: 0.96778          \n",
      "\n",
      "Epoch 00022: roc_auc_val did not improve\n",
      "Epoch 23/100\n",
      "15957/15957 [==============================] - 11s 711us/step - loss: 0.0136 - acc: 0.9946 - val_loss: 0.0842 - val_acc: 0.9781\n",
      "10.89s - roc_auc_val: 0.9651          \n",
      "\n",
      "Epoch 00023: roc_auc_val did not improve\n",
      "Epoch 24/100\n",
      "15957/15957 [==============================] - 11s 713us/step - loss: 0.0129 - acc: 0.9950 - val_loss: 0.1035 - val_acc: 0.9804\n",
      "11.20s - roc_auc_val: 0.97013          \n",
      "\n",
      "Epoch 00024: roc_auc_val improved from 0.96829 to 0.97013, saving model to logs_FastText/best_model.h5\n",
      "Epoch 25/100\n",
      "15957/15957 [==============================] - 11s 718us/step - loss: 0.0125 - acc: 0.9952 - val_loss: 0.1101 - val_acc: 0.9806\n",
      "10.97s - roc_auc_val: 0.96608          \n",
      "\n",
      "Epoch 00025: roc_auc_val did not improve\n",
      "Epoch 26/100\n",
      "15957/15957 [==============================] - 11s 713us/step - loss: 0.0114 - acc: 0.9957 - val_loss: 0.0924 - val_acc: 0.9801\n",
      "10.78s - roc_auc_val: 0.96933          \n",
      "\n",
      "Epoch 00026: roc_auc_val did not improve\n",
      "Epoch 27/100\n",
      "15957/15957 [==============================] - 11s 710us/step - loss: 0.0115 - acc: 0.9956 - val_loss: 0.0929 - val_acc: 0.9801\n",
      "10.79s - roc_auc_val: 0.96649          \n",
      "\n",
      "Epoch 00027: roc_auc_val did not improve\n",
      "Epoch 28/100\n",
      "15957/15957 [==============================] - 11s 710us/step - loss: 0.0109 - acc: 0.9959 - val_loss: 0.0965 - val_acc: 0.9796\n",
      "10.81s - roc_auc_val: 0.96438          \n",
      "\n",
      "Epoch 00028: roc_auc_val did not improve\n",
      "Epoch 29/100\n",
      "15957/15957 [==============================] - 11s 710us/step - loss: 0.0101 - acc: 0.9961 - val_loss: 0.1075 - val_acc: 0.9806\n",
      "10.74s - roc_auc_val: 0.9656          \n",
      "\n",
      "Epoch 00029: roc_auc_val did not improve\n",
      "Epoch 30/100\n",
      "15957/15957 [==============================] - 11s 714us/step - loss: 0.0092 - acc: 0.9964 - val_loss: 0.1237 - val_acc: 0.9804\n",
      "10.83s - roc_auc_val: 0.96983          \n",
      "\n",
      "Epoch 00030: roc_auc_val did not improve\n",
      "Epoch 31/100\n",
      "15957/15957 [==============================] - 11s 714us/step - loss: 0.0091 - acc: 0.9964 - val_loss: 0.0947 - val_acc: 0.9795\n",
      "11.85s - roc_auc_val: 0.96652          \n",
      "\n",
      "Epoch 00031: roc_auc_val did not improve\n",
      "Epoch 32/100\n",
      "15957/15957 [==============================] - 12s 760us/step - loss: 0.0091 - acc: 0.9966 - val_loss: 0.1117 - val_acc: 0.9800\n",
      "13.13s - roc_auc_val: 0.96338          \n",
      "\n",
      "Epoch 00032: roc_auc_val did not improve\n",
      "Epoch 33/100\n",
      "15957/15957 [==============================] - 12s 754us/step - loss: 0.0084 - acc: 0.9970 - val_loss: 0.1103 - val_acc: 0.9802\n",
      "12.70s - roc_auc_val: 0.96697          \n",
      "\n",
      "Epoch 00033: roc_auc_val did not improve\n",
      "Epoch 34/100\n",
      "15957/15957 [==============================] - 12s 755us/step - loss: 0.0083 - acc: 0.9968 - val_loss: 0.1388 - val_acc: 0.9805\n",
      "13.06s - roc_auc_val: 0.96731          \n",
      "\n",
      "Epoch 00034: roc_auc_val did not improve\n",
      "Epoch 00034: early stopping\n",
      "CPU times: user 19min 4s, sys: 15min 20s, total: 34min 24s\n",
      "Wall time: 13min 36s\n"
     ]
    }
   ],
   "source": [
    "%%time\n",
    "\n",
    "history = model.fit(X, y, batch_size=128, epochs=100, validation_data=(X_val, y_val), \n",
    "                    callbacks=callbacks, verbose=1)"
   ]
  },
  {
   "cell_type": "markdown",
   "metadata": {},
   "source": [
    "### Plotting the results"
   ]
  },
  {
   "cell_type": "code",
   "execution_count": 25,
   "metadata": {},
   "outputs": [
    {
     "data": {
      "text/plain": [
       "Text(0.5,0,'epoch')"
      ]
     },
     "execution_count": 25,
     "metadata": {},
     "output_type": "execute_result"
    },
    {
     "data": {
      "image/png": "[encoded data removed]",
      "text/plain": [
       "<Figure size 1440x360 with 3 Axes>"
      ]
     },
     "metadata": {},
     "output_type": "display_data"
    }
   ],
   "source": [
    "fig, axes = plt.subplots(1, 3, figsize=(20,5))\n",
    "\n",
    "axes[0].plot(history.history['acc'], label='train')\n",
    "axes[0].plot(history.history['val_acc'], label='test')\n",
    "axes[0].set_title('model accuracy')\n",
    "axes[0].set_ylabel('accuracy')\n",
    "axes[0].set_xlabel('epoch')\n",
    "axes[0].legend()\n",
    "\n",
    "axes[1].plot(history.history['loss'], label='train')\n",
    "axes[1].plot(history.history['val_loss'], label='test')\n",
    "axes[1].set_title('model loss')\n",
    "axes[1].set_ylabel('loss')\n",
    "axes[1].set_xlabel('epoch')\n",
    "axes[1].legend()\n",
    "\n",
    "axes[2].plot(history.history['roc_auc_val'])\n",
    "axes[2].set_title('model Roc AUC score on validation data')\n",
    "axes[2].set_ylabel('roc auc score')\n",
    "axes[2].set_xlabel('epoch')\n"
   ]
  },
  {
   "cell_type": "markdown",
   "metadata": {},
   "source": [
    "### Load best model"
   ]
  },
  {
   "cell_type": "code",
   "execution_count": 26,
   "metadata": {},
   "outputs": [],
   "source": [
    "model.load_weights(filepath+'/'+'best_model.h5')"
   ]
  },
  {
   "cell_type": "markdown",
   "metadata": {},
   "source": [
    "### Predict labels of test comments"
   ]
  },
  {
   "cell_type": "code",
   "execution_count": 27,
   "metadata": {},
   "outputs": [],
   "source": [
    "pred = model.predict(data_test)"
   ]
  },
  {
   "cell_type": "code",
   "execution_count": 28,
   "metadata": {},
   "outputs": [
    {
     "name": "stdout",
     "output_type": "stream",
     "text": [
      "['toxic', 'severe_toxic', 'obscene', 'threat', 'insult', 'identity_hate']\n"
     ]
    }
   ],
   "source": [
    "classes = []\n",
    "for i in range(2,len(df_train.columns)):\n",
    "    classes.append(df_train.columns[i])\n",
    "print(classes)"
   ]
  },
  {
   "cell_type": "code",
   "execution_count": 29,
   "metadata": {},
   "outputs": [],
   "source": [
    "sample_submission[classes] = pred\n",
    "sample_submission.to_csv(\"submission2.csv\", index=False)"
   ]
  }
 ],
 "metadata": {
  "kernelspec": {
   "display_name": "Python 3",
   "language": "python",
   "name": "python3"
  },
  "language_info": {
   "codemirror_mode": {
    "name": "ipython",
    "version": 3
   },
   "file_extension": ".py",
   "mimetype": "text/x-python",
   "name": "python",
   "nbconvert_exporter": "python",
   "pygments_lexer": "ipython3",
   "version": "3.5.2"
  }
 },
 "nbformat": 4,
 "nbformat_minor": 2
}
